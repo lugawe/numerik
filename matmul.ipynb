{
 "cells": [
  {
   "cell_type": "markdown",
   "id": "f56e3a40",
   "metadata": {},
   "source": [
    "Zwei Matrizen mit numpy definieren"
   ]
  },
  {
   "cell_type": "code",
   "execution_count": 5,
   "id": "d364c909",
   "metadata": {},
   "outputs": [],
   "source": [
    "import numpy as np\n",
    "\n",
    "a = np.array([[1, 0],\n",
    "              [0, 1]])\n",
    "              \n",
    "b = np.array([[4, 1],\n",
    "              [2, 2]])\n"
   ]
  },
  {
   "cell_type": "markdown",
   "id": "173c1949",
   "metadata": {},
   "source": [
    "Diese zwei Matrizen multiplizieren"
   ]
  },
  {
   "cell_type": "code",
   "execution_count": 6,
   "id": "78158656",
   "metadata": {},
   "outputs": [
    {
     "name": "stdout",
     "output_type": "stream",
     "text": [
      "[[4 1]\n",
      " [2 2]]\n"
     ]
    }
   ],
   "source": [
    "result = np.matmul(a, b)\n",
    "\n",
    "print(result)"
   ]
  }
 ],
 "metadata": {
  "kernelspec": {
   "display_name": "Python 3",
   "language": "python",
   "name": "python3"
  },
  "language_info": {
   "codemirror_mode": {
    "name": "ipython",
    "version": 3
   },
   "file_extension": ".py",
   "mimetype": "text/x-python",
   "name": "python",
   "nbconvert_exporter": "python",
   "pygments_lexer": "ipython3",
   "version": "3.12.3"
  }
 },
 "nbformat": 4,
 "nbformat_minor": 5
}
